{
 "cells": [
  {
   "cell_type": "markdown",
   "metadata": {
    "id": "TAS5MqM9xy-N"
   },
   "source": [
    "## Health Care for All Case Study using Pandas"
   ]
  },
  {
   "cell_type": "code",
   "execution_count": 1,
   "metadata": {
    "ExecuteTime": {
     "end_time": "2022-11-09T11:12:34.907886Z",
     "start_time": "2022-11-09T11:12:33.803894Z"
    },
    "executionInfo": {
     "elapsed": 357,
     "status": "ok",
     "timestamp": 1623063461098,
     "user": {
      "displayName": "Ignacio Soteras",
      "photoUrl": "",
      "userId": "02050793736257155229"
     },
     "user_tz": -120
    },
    "id": "DVtwE6bRxy-V"
   },
   "outputs": [],
   "source": [
    "import numpy as np\n",
    "import pandas as pd\n",
    "import matplotlib.pyplot as plt\n",
    "%matplotlib inline\n",
    "import seaborn as sns\n",
    "from sklearn.preprocessing import PowerTransformer\n",
    "from sklearn.compose import ColumnTransformer\n",
    "from sklearn.linear_model import LinearRegression\n",
    "from sklearn.model_selection import train_test_split\n",
    "\n",
    "import statsmodels.api as sm\n",
    "from sklearn.metrics import r2_score\n",
    "from sklearn.metrics import mean_squared_error as mse\n",
    "from sklearn.metrics import mean_absolute_error as mae\n",
    "pd.options.display.max_rows = 50\n",
    "## Install xlrd package to load Excel files\n",
    "# conda install openpyxl\n",
    "## conda install xlrd"
   ]
  },
  {
   "cell_type": "code",
   "execution_count": 2,
   "metadata": {},
   "outputs": [],
   "source": [
    "RAND_STATE = 34 # for reproducible shuffling\n",
    "TT_RATIO = 0.3 # test/train"
   ]
  },
  {
   "cell_type": "code",
   "execution_count": 3,
   "metadata": {},
   "outputs": [],
   "source": [
    "from scipy.stats import iqr\n",
    "def remove_outliers(df):\n",
    "    for c in df.columns:\n",
    "            pct_75 = np.percentile(df[c], 75)\n",
    "            pct_25 = np.percentile(df[c], 25)\n",
    "            upper_bound = pct_75 + 1.5*iqr(df[c])\n",
    "            lower_bound = pct_25 - 1.5*iqr(df[c])\n",
    "            condition = (df[c] < upper_bound) & (df[c] > lower_bound)\n",
    "            df[c] = df[c][condition]  # Filter out the outliers\n",
    "    return df"
   ]
  },
  {
   "cell_type": "markdown",
   "metadata": {},
   "source": [
    "<b> We begin by loading the precleaned data set"
   ]
  },
  {
   "cell_type": "code",
   "execution_count": 4,
   "metadata": {
    "ExecuteTime": {
     "end_time": "2022-11-09T11:12:36.718597Z",
     "start_time": "2022-11-09T11:12:36.701312Z"
    }
   },
   "outputs": [],
   "source": [
    "hk_df= pd.read_csv(\"hk_df_cleaned.csv\")"
   ]
  },
  {
   "cell_type": "code",
   "execution_count": 5,
   "metadata": {
    "ExecuteTime": {
     "end_time": "2022-11-09T11:12:46.144229Z",
     "start_time": "2022-11-09T11:12:46.135839Z"
    }
   },
   "outputs": [
    {
     "data": {
      "text/plain": [
       "Index(['index', 'state', 'gender', 'median_home_val', 'avg_fam_income',\n",
       "       'avg_household_income', 'med_fam_income', 'median_household_income',\n",
       "       'hvp1', 'per_capita_income', 'pobc2', 'avggift', 'domain', 'target_d',\n",
       "       'med_fam_income_binned'],\n",
       "      dtype='object')"
      ]
     },
     "execution_count": 5,
     "metadata": {},
     "output_type": "execute_result"
    }
   ],
   "source": [
    "hk_df.columns # inspect the column names"
   ]
  },
  {
   "cell_type": "markdown",
   "metadata": {},
   "source": [
    "<b> checking correlations between numerical variables"
   ]
  },
  {
   "cell_type": "code",
   "execution_count": null,
   "metadata": {
    "ExecuteTime": {
     "end_time": "2022-11-09T11:12:58.086382Z",
     "start_time": "2022-11-09T11:12:52.505595Z"
    }
   },
   "outputs": [],
   "source": [
    "sns.pairplot(hk_df.select_dtypes(np.number)) # pairplot generates a grid of scatter plots for all numerical variables except on the diagonal where it displays distributions"
   ]
  },
  {
   "cell_type": "code",
   "execution_count": null,
   "metadata": {
    "ExecuteTime": {
     "end_time": "2022-11-09T11:12:58.144465Z",
     "start_time": "2022-11-09T11:12:58.098437Z"
    }
   },
   "outputs": [],
   "source": [
    "plt.scatter(x=hk_df['med_fam_income'], y=hk_df['avg_household_income'],c='g') # note the correlation between income sources\n"
   ]
  },
  {
   "cell_type": "markdown",
   "metadata": {},
   "source": [
    "<b> Plotting the correlation heatmap"
   ]
  },
  {
   "cell_type": "code",
   "execution_count": null,
   "metadata": {},
   "outputs": [],
   "source": [
    "corr = hk_df.corr()\n",
    "mask = np.zeros_like(corr)\n",
    "mask[np.triu_indices_from(mask)] = True # trick to filter out the upper-right triangle, which is redundant due to symmetry\n",
    "with sns.axes_style(\"white\"):\n",
    "    f, ax = plt.subplots(figsize=(16, 14))\n",
    "    ax = sns.heatmap(corr, mask=mask,cmap='coolwarm', vmin=-1,vmax=1,annot=True, square=True)"
   ]
  },
  {
   "cell_type": "markdown",
   "metadata": {},
   "source": [
    "<b> Removing highly correlated columns\n"
   ]
  },
  {
   "cell_type": "code",
   "execution_count": null,
   "metadata": {
    "ExecuteTime": {
     "end_time": "2022-11-09T11:13:24.366115Z",
     "start_time": "2022-11-09T11:13:24.350446Z"
    }
   },
   "outputs": [],
   "source": [
    "CORR_THRESH = 0.80\n",
    "corr_matrix=hk_df.corr().abs()\n",
    "upper_triangle=corr_matrix.where(np.triu(np.ones(corr_matrix.shape),k=1).astype(bool))\n",
    "corrd_cols = [column for column in upper_triangle.columns if any(upper_triangle[column] > CORR_THRESH)]\n",
    "hk_df.drop(corrd_cols,axis=1,inplace=True)\n",
    "hk_df.columns"
   ]
  },
  {
   "cell_type": "code",
   "execution_count": null,
   "metadata": {
    "ExecuteTime": {
     "end_time": "2022-11-09T11:13:33.293181Z",
     "start_time": "2022-11-09T11:13:33.028722Z"
    }
   },
   "outputs": [],
   "source": [
    "hk_df.hist(figsize=(11,12))"
   ]
  },
  {
   "cell_type": "markdown",
   "metadata": {},
   "source": [
    "<b> Distribution of \"median home value\" is skewed towards lower incomes"
   ]
  },
  {
   "cell_type": "code",
   "execution_count": null,
   "metadata": {
    "ExecuteTime": {
     "end_time": "2022-11-09T11:13:35.079215Z",
     "start_time": "2022-11-09T11:13:34.988547Z"
    }
   },
   "outputs": [],
   "source": [
    "sns.displot((hk_df['median_home_val']), bins=20)"
   ]
  },
  {
   "cell_type": "markdown",
   "metadata": {},
   "source": [
    "## X,y, one-hot, and test/train"
   ]
  },
  {
   "cell_type": "code",
   "execution_count": 6,
   "metadata": {},
   "outputs": [],
   "source": [
    "X = hk_df.drop('target_d', axis=1)\n",
    "y = hk_df.target_d"
   ]
  },
  {
   "cell_type": "code",
   "execution_count": 7,
   "metadata": {},
   "outputs": [],
   "source": [
    "numericalX = X.select_dtypes(np.number)\n",
    "categoricalX = X.select_dtypes(object)"
   ]
  },
  {
   "cell_type": "code",
   "execution_count": 8,
   "metadata": {},
   "outputs": [
    {
     "data": {
      "text/html": [
       "<div>\n",
       "<style scoped>\n",
       "    .dataframe tbody tr th:only-of-type {\n",
       "        vertical-align: middle;\n",
       "    }\n",
       "\n",
       "    .dataframe tbody tr th {\n",
       "        vertical-align: top;\n",
       "    }\n",
       "\n",
       "    .dataframe thead th {\n",
       "        text-align: right;\n",
       "    }\n",
       "</style>\n",
       "<table border=\"1\" class=\"dataframe\">\n",
       "  <thead>\n",
       "    <tr style=\"text-align: right;\">\n",
       "      <th></th>\n",
       "      <th>index</th>\n",
       "      <th>median_home_val</th>\n",
       "      <th>avg_fam_income</th>\n",
       "      <th>avg_household_income</th>\n",
       "      <th>med_fam_income</th>\n",
       "      <th>median_household_income</th>\n",
       "      <th>hvp1</th>\n",
       "      <th>per_capita_income</th>\n",
       "      <th>pobc2</th>\n",
       "      <th>avggift</th>\n",
       "    </tr>\n",
       "  </thead>\n",
       "  <tbody>\n",
       "    <tr>\n",
       "      <th>0</th>\n",
       "      <td>0</td>\n",
       "      <td>1158.598192</td>\n",
       "      <td>520.0</td>\n",
       "      <td>466</td>\n",
       "      <td>430.0</td>\n",
       "      <td>392</td>\n",
       "      <td>7</td>\n",
       "      <td>21975.0</td>\n",
       "      <td>16</td>\n",
       "      <td>28</td>\n",
       "    </tr>\n",
       "    <tr>\n",
       "      <th>1</th>\n",
       "      <td>1</td>\n",
       "      <td>537.000000</td>\n",
       "      <td>473.0</td>\n",
       "      <td>410</td>\n",
       "      <td>415.0</td>\n",
       "      <td>365</td>\n",
       "      <td>0</td>\n",
       "      <td>19387.0</td>\n",
       "      <td>89</td>\n",
       "      <td>5</td>\n",
       "    </tr>\n",
       "    <tr>\n",
       "      <th>2</th>\n",
       "      <td>2</td>\n",
       "      <td>725.000000</td>\n",
       "      <td>436.0</td>\n",
       "      <td>361</td>\n",
       "      <td>340.0</td>\n",
       "      <td>301</td>\n",
       "      <td>3</td>\n",
       "      <td>18837.0</td>\n",
       "      <td>17</td>\n",
       "      <td>4</td>\n",
       "    </tr>\n",
       "    <tr>\n",
       "      <th>3</th>\n",
       "      <td>3</td>\n",
       "      <td>1158.598192</td>\n",
       "      <td>413.0</td>\n",
       "      <td>399</td>\n",
       "      <td>407.0</td>\n",
       "      <td>401</td>\n",
       "      <td>7</td>\n",
       "      <td>14014.0</td>\n",
       "      <td>74</td>\n",
       "      <td>27</td>\n",
       "    </tr>\n",
       "    <tr>\n",
       "      <th>4</th>\n",
       "      <td>4</td>\n",
       "      <td>995.000000</td>\n",
       "      <td>348.0</td>\n",
       "      <td>316</td>\n",
       "      <td>280.0</td>\n",
       "      <td>252</td>\n",
       "      <td>0</td>\n",
       "      <td>17991.0</td>\n",
       "      <td>6</td>\n",
       "      <td>6</td>\n",
       "    </tr>\n",
       "    <tr>\n",
       "      <th>...</th>\n",
       "      <td>...</td>\n",
       "      <td>...</td>\n",
       "      <td>...</td>\n",
       "      <td>...</td>\n",
       "      <td>...</td>\n",
       "      <td>...</td>\n",
       "      <td>...</td>\n",
       "      <td>...</td>\n",
       "      <td>...</td>\n",
       "      <td>...</td>\n",
       "    </tr>\n",
       "    <tr>\n",
       "      <th>3986</th>\n",
       "      <td>4018</td>\n",
       "      <td>632.000000</td>\n",
       "      <td>388.0</td>\n",
       "      <td>339</td>\n",
       "      <td>336.0</td>\n",
       "      <td>279</td>\n",
       "      <td>2</td>\n",
       "      <td>12653.0</td>\n",
       "      <td>71</td>\n",
       "      <td>8</td>\n",
       "    </tr>\n",
       "    <tr>\n",
       "      <th>3987</th>\n",
       "      <td>4019</td>\n",
       "      <td>595.000000</td>\n",
       "      <td>274.0</td>\n",
       "      <td>262</td>\n",
       "      <td>263.0</td>\n",
       "      <td>252</td>\n",
       "      <td>0</td>\n",
       "      <td>11132.0</td>\n",
       "      <td>11</td>\n",
       "      <td>14</td>\n",
       "    </tr>\n",
       "    <tr>\n",
       "      <th>3988</th>\n",
       "      <td>4020</td>\n",
       "      <td>2707.000000</td>\n",
       "      <td>537.0</td>\n",
       "      <td>538</td>\n",
       "      <td>504.0</td>\n",
       "      <td>507</td>\n",
       "      <td>80</td>\n",
       "      <td>16165.0</td>\n",
       "      <td>54</td>\n",
       "      <td>12</td>\n",
       "    </tr>\n",
       "    <tr>\n",
       "      <th>3989</th>\n",
       "      <td>4021</td>\n",
       "      <td>2666.000000</td>\n",
       "      <td>653.0</td>\n",
       "      <td>612</td>\n",
       "      <td>609.0</td>\n",
       "      <td>535</td>\n",
       "      <td>63</td>\n",
       "      <td>24745.0</td>\n",
       "      <td>45</td>\n",
       "      <td>12</td>\n",
       "    </tr>\n",
       "    <tr>\n",
       "      <th>3990</th>\n",
       "      <td>4022</td>\n",
       "      <td>444.000000</td>\n",
       "      <td>299.0</td>\n",
       "      <td>269</td>\n",
       "      <td>264.0</td>\n",
       "      <td>225</td>\n",
       "      <td>3</td>\n",
       "      <td>10088.0</td>\n",
       "      <td>86</td>\n",
       "      <td>17</td>\n",
       "    </tr>\n",
       "  </tbody>\n",
       "</table>\n",
       "<p>3991 rows × 10 columns</p>\n",
       "</div>"
      ],
      "text/plain": [
       "      index  median_home_val  avg_fam_income  avg_household_income  \\\n",
       "0         0      1158.598192           520.0                   466   \n",
       "1         1       537.000000           473.0                   410   \n",
       "2         2       725.000000           436.0                   361   \n",
       "3         3      1158.598192           413.0                   399   \n",
       "4         4       995.000000           348.0                   316   \n",
       "...     ...              ...             ...                   ...   \n",
       "3986   4018       632.000000           388.0                   339   \n",
       "3987   4019       595.000000           274.0                   262   \n",
       "3988   4020      2707.000000           537.0                   538   \n",
       "3989   4021      2666.000000           653.0                   612   \n",
       "3990   4022       444.000000           299.0                   269   \n",
       "\n",
       "      med_fam_income  median_household_income  hvp1  per_capita_income  pobc2  \\\n",
       "0              430.0                      392     7            21975.0     16   \n",
       "1              415.0                      365     0            19387.0     89   \n",
       "2              340.0                      301     3            18837.0     17   \n",
       "3              407.0                      401     7            14014.0     74   \n",
       "4              280.0                      252     0            17991.0      6   \n",
       "...              ...                      ...   ...                ...    ...   \n",
       "3986           336.0                      279     2            12653.0     71   \n",
       "3987           263.0                      252     0            11132.0     11   \n",
       "3988           504.0                      507    80            16165.0     54   \n",
       "3989           609.0                      535    63            24745.0     45   \n",
       "3990           264.0                      225     3            10088.0     86   \n",
       "\n",
       "      avggift  \n",
       "0          28  \n",
       "1           5  \n",
       "2           4  \n",
       "3          27  \n",
       "4           6  \n",
       "...       ...  \n",
       "3986        8  \n",
       "3987       14  \n",
       "3988       12  \n",
       "3989       12  \n",
       "3990       17  \n",
       "\n",
       "[3991 rows x 10 columns]"
      ]
     },
     "execution_count": 8,
     "metadata": {},
     "output_type": "execute_result"
    }
   ],
   "source": [
    "numericalX"
   ]
  },
  {
   "cell_type": "code",
   "execution_count": 9,
   "metadata": {},
   "outputs": [],
   "source": [
    "med=pd.DataFrame(hk_df.median_home_val)"
   ]
  },
  {
   "cell_type": "code",
   "execution_count": 10,
   "metadata": {},
   "outputs": [
    {
     "data": {
      "text/plain": [
       "False"
      ]
     },
     "execution_count": 10,
     "metadata": {},
     "output_type": "execute_result"
    }
   ],
   "source": [
    "y.isna().any()"
   ]
  },
  {
   "cell_type": "code",
   "execution_count": 11,
   "metadata": {},
   "outputs": [
    {
     "data": {
      "text/plain": [
       "array([[<Axes: title={'center': 'median_home_val'}>]], dtype=object)"
      ]
     },
     "execution_count": 11,
     "metadata": {},
     "output_type": "execute_result"
    },
    {
     "data": {
      "image/png": "[encoded data removed]",
      "text/plain": [
       "<Figure size 640x480 with 1 Axes>"
      ]
     },
     "metadata": {},
     "output_type": "display_data"
    }
   ],
   "source": [
    "med.hist()"
   ]
  },
  {
   "cell_type": "code",
   "execution_count": 12,
   "metadata": {},
   "outputs": [],
   "source": [
    "y.dropna(inplace=True)"
   ]
  },
  {
   "cell_type": "code",
   "execution_count": 13,
   "metadata": {},
   "outputs": [
    {
     "data": {
      "text/plain": [
       "0       100.0\n",
       "1         7.0\n",
       "2         5.0\n",
       "3        38.0\n",
       "4         5.0\n",
       "        ...  \n",
       "3986      5.0\n",
       "3987     20.0\n",
       "3988     22.0\n",
       "3989     21.0\n",
       "3990     25.0\n",
       "Name: target_d, Length: 3991, dtype: float64"
      ]
     },
     "execution_count": 13,
     "metadata": {},
     "output_type": "execute_result"
    }
   ],
   "source": [
    "y"
   ]
  },
  {
   "cell_type": "code",
   "execution_count": 14,
   "metadata": {},
   "outputs": [],
   "source": [
    "y = pd.DataFrame(y)"
   ]
  },
  {
   "cell_type": "code",
   "execution_count": 15,
   "metadata": {
    "scrolled": true
   },
   "outputs": [
    {
     "data": {
      "text/html": [
       "<div>\n",
       "<style scoped>\n",
       "    .dataframe tbody tr th:only-of-type {\n",
       "        vertical-align: middle;\n",
       "    }\n",
       "\n",
       "    .dataframe tbody tr th {\n",
       "        vertical-align: top;\n",
       "    }\n",
       "\n",
       "    .dataframe thead th {\n",
       "        text-align: right;\n",
       "    }\n",
       "</style>\n",
       "<table border=\"1\" class=\"dataframe\">\n",
       "  <thead>\n",
       "    <tr style=\"text-align: right;\">\n",
       "      <th></th>\n",
       "      <th>target_d</th>\n",
       "    </tr>\n",
       "  </thead>\n",
       "  <tbody>\n",
       "    <tr>\n",
       "      <th>0</th>\n",
       "      <td>NaN</td>\n",
       "    </tr>\n",
       "    <tr>\n",
       "      <th>1</th>\n",
       "      <td>7.0</td>\n",
       "    </tr>\n",
       "    <tr>\n",
       "      <th>2</th>\n",
       "      <td>5.0</td>\n",
       "    </tr>\n",
       "    <tr>\n",
       "      <th>3</th>\n",
       "      <td>NaN</td>\n",
       "    </tr>\n",
       "    <tr>\n",
       "      <th>4</th>\n",
       "      <td>5.0</td>\n",
       "    </tr>\n",
       "    <tr>\n",
       "      <th>...</th>\n",
       "      <td>...</td>\n",
       "    </tr>\n",
       "    <tr>\n",
       "      <th>3986</th>\n",
       "      <td>5.0</td>\n",
       "    </tr>\n",
       "    <tr>\n",
       "      <th>3987</th>\n",
       "      <td>20.0</td>\n",
       "    </tr>\n",
       "    <tr>\n",
       "      <th>3988</th>\n",
       "      <td>22.0</td>\n",
       "    </tr>\n",
       "    <tr>\n",
       "      <th>3989</th>\n",
       "      <td>21.0</td>\n",
       "    </tr>\n",
       "    <tr>\n",
       "      <th>3990</th>\n",
       "      <td>25.0</td>\n",
       "    </tr>\n",
       "  </tbody>\n",
       "</table>\n",
       "<p>3991 rows × 1 columns</p>\n",
       "</div>"
      ],
      "text/plain": [
       "      target_d\n",
       "0          NaN\n",
       "1          7.0\n",
       "2          5.0\n",
       "3          NaN\n",
       "4          5.0\n",
       "...        ...\n",
       "3986       5.0\n",
       "3987      20.0\n",
       "3988      22.0\n",
       "3989      21.0\n",
       "3990      25.0\n",
       "\n",
       "[3991 rows x 1 columns]"
      ]
     },
     "execution_count": 15,
     "metadata": {},
     "output_type": "execute_result"
    }
   ],
   "source": [
    "remove_outliers(pd.DataFrame(y))"
   ]
  },
  {
   "cell_type": "code",
   "execution_count": 16,
   "metadata": {},
   "outputs": [
    {
     "name": "stderr",
     "output_type": "stream",
     "text": [
      "C:\\Users\\Aleks\\AppData\\Local\\Temp\\ipykernel_27452\\504253479.py:9: SettingWithCopyWarning: \n",
      "A value is trying to be set on a copy of a slice from a DataFrame.\n",
      "Try using .loc[row_indexer,col_indexer] = value instead\n",
      "\n",
      "See the caveats in the documentation: https://pandas.pydata.org/pandas-docs/stable/user_guide/indexing.html#returning-a-view-versus-a-copy\n",
      "  df[c] = df[c][condition]  # Filter out the outliers\n"
     ]
    }
   ],
   "source": [
    "# one-hot encode the categorical features\n",
    "X = pd.concat([pd.get_dummies(X[categoricalX.columns],drop_first=True),\n",
    "               remove_outliers(X[numericalX.columns])],\n",
    "              axis=1)"
   ]
  },
  {
   "cell_type": "code",
   "execution_count": 17,
   "metadata": {},
   "outputs": [
    {
     "data": {
      "text/plain": [
       "state_AE                   False\n",
       "state_AK                   False\n",
       "state_AL                   False\n",
       "state_AP                   False\n",
       "state_AR                   False\n",
       "                           ...  \n",
       "median_household_income     True\n",
       "hvp1                        True\n",
       "per_capita_income           True\n",
       "pobc2                      False\n",
       "avggift                     True\n",
       "Length: 82, dtype: bool"
      ]
     },
     "execution_count": 17,
     "metadata": {},
     "output_type": "execute_result"
    }
   ],
   "source": [
    "X.isna().any()"
   ]
  },
  {
   "cell_type": "code",
   "execution_count": 18,
   "metadata": {},
   "outputs": [
    {
     "data": {
      "text/plain": [
       "Index(['index', 'state', 'gender', 'median_home_val', 'avg_fam_income',\n",
       "       'avg_household_income', 'med_fam_income', 'median_household_income',\n",
       "       'hvp1', 'per_capita_income', 'pobc2', 'avggift', 'domain', 'target_d',\n",
       "       'med_fam_income_binned'],\n",
       "      dtype='object')"
      ]
     },
     "execution_count": 18,
     "metadata": {},
     "output_type": "execute_result"
    }
   ],
   "source": [
    "hk_df.columns"
   ]
  },
  {
   "cell_type": "code",
   "execution_count": 19,
   "metadata": {},
   "outputs": [],
   "source": [
    "na_idcs = X[X.isna().any(axis=1)].index\n",
    "X = pd.DataFrame(X).drop(na_idcs)\n",
    "y = pd.DataFrame(y).drop(na_idcs)"
   ]
  },
  {
   "cell_type": "code",
   "execution_count": 20,
   "metadata": {},
   "outputs": [],
   "source": [
    "na_idcs_y = y[y.isna().any(axis=1)].index\n",
    "X = pd.DataFrame(X).drop(na_idcs_y)\n",
    "y = pd.DataFrame(y).drop(na_idcs_y)"
   ]
  },
  {
   "cell_type": "code",
   "execution_count": 21,
   "metadata": {},
   "outputs": [
    {
     "data": {
      "text/plain": [
       "target_d    False\n",
       "dtype: bool"
      ]
     },
     "execution_count": 21,
     "metadata": {},
     "output_type": "execute_result"
    }
   ],
   "source": [
    "y.isna().any()"
   ]
  },
  {
   "cell_type": "code",
   "execution_count": 22,
   "metadata": {},
   "outputs": [
    {
     "data": {
      "text/html": [
       "<div>\n",
       "<style scoped>\n",
       "    .dataframe tbody tr th:only-of-type {\n",
       "        vertical-align: middle;\n",
       "    }\n",
       "\n",
       "    .dataframe tbody tr th {\n",
       "        vertical-align: top;\n",
       "    }\n",
       "\n",
       "    .dataframe thead th {\n",
       "        text-align: right;\n",
       "    }\n",
       "</style>\n",
       "<table border=\"1\" class=\"dataframe\">\n",
       "  <thead>\n",
       "    <tr style=\"text-align: right;\">\n",
       "      <th></th>\n",
       "      <th>state_AE</th>\n",
       "      <th>state_AK</th>\n",
       "      <th>state_AL</th>\n",
       "      <th>state_AP</th>\n",
       "      <th>state_AR</th>\n",
       "      <th>state_AZ</th>\n",
       "      <th>state_Arizona</th>\n",
       "      <th>state_CA</th>\n",
       "      <th>state_CO</th>\n",
       "      <th>state_CT</th>\n",
       "      <th>...</th>\n",
       "      <th>index</th>\n",
       "      <th>median_home_val</th>\n",
       "      <th>avg_fam_income</th>\n",
       "      <th>avg_household_income</th>\n",
       "      <th>med_fam_income</th>\n",
       "      <th>median_household_income</th>\n",
       "      <th>hvp1</th>\n",
       "      <th>per_capita_income</th>\n",
       "      <th>pobc2</th>\n",
       "      <th>avggift</th>\n",
       "    </tr>\n",
       "  </thead>\n",
       "  <tbody>\n",
       "    <tr>\n",
       "      <th>3331</th>\n",
       "      <td>0</td>\n",
       "      <td>0</td>\n",
       "      <td>0</td>\n",
       "      <td>0</td>\n",
       "      <td>0</td>\n",
       "      <td>0</td>\n",
       "      <td>0</td>\n",
       "      <td>0</td>\n",
       "      <td>0</td>\n",
       "      <td>0</td>\n",
       "      <td>...</td>\n",
       "      <td>3363</td>\n",
       "      <td>439.0</td>\n",
       "      <td>212.0</td>\n",
       "      <td>168.0</td>\n",
       "      <td>189.0</td>\n",
       "      <td>134.0</td>\n",
       "      <td>0.0</td>\n",
       "      <td>7525.0</td>\n",
       "      <td>77</td>\n",
       "      <td>5.0</td>\n",
       "    </tr>\n",
       "    <tr>\n",
       "      <th>1403</th>\n",
       "      <td>0</td>\n",
       "      <td>0</td>\n",
       "      <td>1</td>\n",
       "      <td>0</td>\n",
       "      <td>0</td>\n",
       "      <td>0</td>\n",
       "      <td>0</td>\n",
       "      <td>0</td>\n",
       "      <td>0</td>\n",
       "      <td>0</td>\n",
       "      <td>...</td>\n",
       "      <td>1419</td>\n",
       "      <td>710.0</td>\n",
       "      <td>457.0</td>\n",
       "      <td>433.0</td>\n",
       "      <td>429.0</td>\n",
       "      <td>402.0</td>\n",
       "      <td>0.0</td>\n",
       "      <td>14119.0</td>\n",
       "      <td>50</td>\n",
       "      <td>10.0</td>\n",
       "    </tr>\n",
       "    <tr>\n",
       "      <th>1978</th>\n",
       "      <td>0</td>\n",
       "      <td>0</td>\n",
       "      <td>0</td>\n",
       "      <td>0</td>\n",
       "      <td>0</td>\n",
       "      <td>0</td>\n",
       "      <td>0</td>\n",
       "      <td>0</td>\n",
       "      <td>0</td>\n",
       "      <td>0</td>\n",
       "      <td>...</td>\n",
       "      <td>1994</td>\n",
       "      <td>748.0</td>\n",
       "      <td>423.0</td>\n",
       "      <td>369.0</td>\n",
       "      <td>372.0</td>\n",
       "      <td>352.0</td>\n",
       "      <td>1.0</td>\n",
       "      <td>13998.0</td>\n",
       "      <td>62</td>\n",
       "      <td>10.0</td>\n",
       "    </tr>\n",
       "  </tbody>\n",
       "</table>\n",
       "<p>3 rows × 82 columns</p>\n",
       "</div>"
      ],
      "text/plain": [
       "      state_AE  state_AK  state_AL  state_AP  state_AR  state_AZ  \\\n",
       "3331         0         0         0         0         0         0   \n",
       "1403         0         0         1         0         0         0   \n",
       "1978         0         0         0         0         0         0   \n",
       "\n",
       "      state_Arizona  state_CA  state_CO  state_CT  ...  index  \\\n",
       "3331              0         0         0         0  ...   3363   \n",
       "1403              0         0         0         0  ...   1419   \n",
       "1978              0         0         0         0  ...   1994   \n",
       "\n",
       "      median_home_val  avg_fam_income  avg_household_income  med_fam_income  \\\n",
       "3331            439.0           212.0                 168.0           189.0   \n",
       "1403            710.0           457.0                 433.0           429.0   \n",
       "1978            748.0           423.0                 369.0           372.0   \n",
       "\n",
       "      median_household_income  hvp1  per_capita_income  pobc2  avggift  \n",
       "3331                    134.0   0.0             7525.0     77      5.0  \n",
       "1403                    402.0   0.0            14119.0     50     10.0  \n",
       "1978                    352.0   1.0            13998.0     62     10.0  \n",
       "\n",
       "[3 rows x 82 columns]"
      ]
     },
     "execution_count": 22,
     "metadata": {},
     "output_type": "execute_result"
    }
   ],
   "source": [
    "# test-train split\n",
    "X_train, X_test, y_train, y_test = train_test_split(X, y, test_size=TT_RATIO, random_state=RAND_STATE)\n",
    "X_train = pd.DataFrame(X_train)\n",
    "X_test = pd.DataFrame(X_test)\n",
    "X_train.head(3)"
   ]
  },
  {
   "cell_type": "markdown",
   "metadata": {},
   "source": [
    "## Continuous transformations"
   ]
  },
  {
   "cell_type": "markdown",
   "metadata": {},
   "source": [
    "<b> Power Transformer </b>: we use a power transformer to make the distribution of this variable more normal-like.  It improves modeling errors in linear regression."
   ]
  },
  {
   "cell_type": "code",
   "execution_count": 23,
   "metadata": {
    "ExecuteTime": {
     "end_time": "2022-11-09T11:14:03.683606Z",
     "start_time": "2022-11-09T11:14:03.514315Z"
    }
   },
   "outputs": [
    {
     "data": {
      "text/plain": [
       "<seaborn.axisgrid.FacetGrid at 0x2623c6fb970>"
      ]
     },
     "execution_count": 23,
     "metadata": {},
     "output_type": "execute_result"
    },
    {
     "data": {
      "image/png": "[encoded data removed]",
      "text/plain": [
       "<Figure size 558.875x500 with 1 Axes>"
      ]
     },
     "metadata": {},
     "output_type": "display_data"
    }
   ],
   "source": [
    "pt = PowerTransformer()\n",
    "med_home_val_transformed=pt.fit_transform(hk_df['median_home_val'].to_numpy().reshape(-1,1))\n",
    "sns.displot(med_home_val_transformed)"
   ]
  },
  {
   "cell_type": "code",
   "execution_count": 24,
   "metadata": {
    "ExecuteTime": {
     "end_time": "2022-11-09T11:14:06.223650Z",
     "start_time": "2022-11-09T11:14:06.218077Z"
    }
   },
   "outputs": [
    {
     "name": "stdout",
     "output_type": "stream",
     "text": [
      "the parameters used to transform median_home_val are\n"
     ]
    },
    {
     "data": {
      "text/plain": [
       "({'copy': True, 'method': 'yeo-johnson', 'standardize': True},\n",
       " array([0.24451556]))"
      ]
     },
     "execution_count": 24,
     "metadata": {},
     "output_type": "execute_result"
    }
   ],
   "source": [
    "print(\"the parameters used to transform median_home_val are\")\n",
    "pt.get_params(),pt.lambdas_ # parameter used in the power transformation"
   ]
  },
  {
   "cell_type": "code",
   "execution_count": 25,
   "metadata": {},
   "outputs": [
    {
     "data": {
      "text/html": [
       "<div>\n",
       "<style scoped>\n",
       "    .dataframe tbody tr th:only-of-type {\n",
       "        vertical-align: middle;\n",
       "    }\n",
       "\n",
       "    .dataframe tbody tr th {\n",
       "        vertical-align: top;\n",
       "    }\n",
       "\n",
       "    .dataframe thead th {\n",
       "        text-align: right;\n",
       "    }\n",
       "</style>\n",
       "<table border=\"1\" class=\"dataframe\">\n",
       "  <thead>\n",
       "    <tr style=\"text-align: right;\">\n",
       "      <th></th>\n",
       "      <th>state_AE</th>\n",
       "      <th>state_AK</th>\n",
       "      <th>state_AL</th>\n",
       "      <th>state_AP</th>\n",
       "      <th>state_AR</th>\n",
       "      <th>state_AZ</th>\n",
       "      <th>state_Arizona</th>\n",
       "      <th>state_CA</th>\n",
       "      <th>state_CO</th>\n",
       "      <th>state_CT</th>\n",
       "      <th>...</th>\n",
       "      <th>index</th>\n",
       "      <th>median_home_val</th>\n",
       "      <th>avg_fam_income</th>\n",
       "      <th>avg_household_income</th>\n",
       "      <th>med_fam_income</th>\n",
       "      <th>median_household_income</th>\n",
       "      <th>hvp1</th>\n",
       "      <th>per_capita_income</th>\n",
       "      <th>pobc2</th>\n",
       "      <th>avggift</th>\n",
       "    </tr>\n",
       "  </thead>\n",
       "  <tbody>\n",
       "    <tr>\n",
       "      <th>3331</th>\n",
       "      <td>0</td>\n",
       "      <td>0</td>\n",
       "      <td>0</td>\n",
       "      <td>0</td>\n",
       "      <td>0</td>\n",
       "      <td>0</td>\n",
       "      <td>0</td>\n",
       "      <td>0</td>\n",
       "      <td>0</td>\n",
       "      <td>0</td>\n",
       "      <td>...</td>\n",
       "      <td>3363</td>\n",
       "      <td>439.0</td>\n",
       "      <td>212.0</td>\n",
       "      <td>168.0</td>\n",
       "      <td>189.0</td>\n",
       "      <td>134.0</td>\n",
       "      <td>0.0</td>\n",
       "      <td>7525.0</td>\n",
       "      <td>77</td>\n",
       "      <td>5.0</td>\n",
       "    </tr>\n",
       "    <tr>\n",
       "      <th>1403</th>\n",
       "      <td>0</td>\n",
       "      <td>0</td>\n",
       "      <td>1</td>\n",
       "      <td>0</td>\n",
       "      <td>0</td>\n",
       "      <td>0</td>\n",
       "      <td>0</td>\n",
       "      <td>0</td>\n",
       "      <td>0</td>\n",
       "      <td>0</td>\n",
       "      <td>...</td>\n",
       "      <td>1419</td>\n",
       "      <td>710.0</td>\n",
       "      <td>457.0</td>\n",
       "      <td>433.0</td>\n",
       "      <td>429.0</td>\n",
       "      <td>402.0</td>\n",
       "      <td>0.0</td>\n",
       "      <td>14119.0</td>\n",
       "      <td>50</td>\n",
       "      <td>10.0</td>\n",
       "    </tr>\n",
       "    <tr>\n",
       "      <th>1978</th>\n",
       "      <td>0</td>\n",
       "      <td>0</td>\n",
       "      <td>0</td>\n",
       "      <td>0</td>\n",
       "      <td>0</td>\n",
       "      <td>0</td>\n",
       "      <td>0</td>\n",
       "      <td>0</td>\n",
       "      <td>0</td>\n",
       "      <td>0</td>\n",
       "      <td>...</td>\n",
       "      <td>1994</td>\n",
       "      <td>748.0</td>\n",
       "      <td>423.0</td>\n",
       "      <td>369.0</td>\n",
       "      <td>372.0</td>\n",
       "      <td>352.0</td>\n",
       "      <td>1.0</td>\n",
       "      <td>13998.0</td>\n",
       "      <td>62</td>\n",
       "      <td>10.0</td>\n",
       "    </tr>\n",
       "    <tr>\n",
       "      <th>3553</th>\n",
       "      <td>0</td>\n",
       "      <td>0</td>\n",
       "      <td>0</td>\n",
       "      <td>0</td>\n",
       "      <td>0</td>\n",
       "      <td>0</td>\n",
       "      <td>0</td>\n",
       "      <td>0</td>\n",
       "      <td>0</td>\n",
       "      <td>0</td>\n",
       "      <td>...</td>\n",
       "      <td>3585</td>\n",
       "      <td>633.0</td>\n",
       "      <td>391.0</td>\n",
       "      <td>351.0</td>\n",
       "      <td>326.0</td>\n",
       "      <td>309.0</td>\n",
       "      <td>1.0</td>\n",
       "      <td>13407.0</td>\n",
       "      <td>63</td>\n",
       "      <td>12.0</td>\n",
       "    </tr>\n",
       "    <tr>\n",
       "      <th>3351</th>\n",
       "      <td>0</td>\n",
       "      <td>0</td>\n",
       "      <td>0</td>\n",
       "      <td>0</td>\n",
       "      <td>0</td>\n",
       "      <td>0</td>\n",
       "      <td>0</td>\n",
       "      <td>0</td>\n",
       "      <td>0</td>\n",
       "      <td>0</td>\n",
       "      <td>...</td>\n",
       "      <td>3383</td>\n",
       "      <td>804.0</td>\n",
       "      <td>441.0</td>\n",
       "      <td>400.0</td>\n",
       "      <td>408.0</td>\n",
       "      <td>366.0</td>\n",
       "      <td>7.0</td>\n",
       "      <td>15041.0</td>\n",
       "      <td>54</td>\n",
       "      <td>15.0</td>\n",
       "    </tr>\n",
       "    <tr>\n",
       "      <th>...</th>\n",
       "      <td>...</td>\n",
       "      <td>...</td>\n",
       "      <td>...</td>\n",
       "      <td>...</td>\n",
       "      <td>...</td>\n",
       "      <td>...</td>\n",
       "      <td>...</td>\n",
       "      <td>...</td>\n",
       "      <td>...</td>\n",
       "      <td>...</td>\n",
       "      <td>...</td>\n",
       "      <td>...</td>\n",
       "      <td>...</td>\n",
       "      <td>...</td>\n",
       "      <td>...</td>\n",
       "      <td>...</td>\n",
       "      <td>...</td>\n",
       "      <td>...</td>\n",
       "      <td>...</td>\n",
       "      <td>...</td>\n",
       "      <td>...</td>\n",
       "    </tr>\n",
       "    <tr>\n",
       "      <th>2059</th>\n",
       "      <td>0</td>\n",
       "      <td>0</td>\n",
       "      <td>0</td>\n",
       "      <td>0</td>\n",
       "      <td>0</td>\n",
       "      <td>0</td>\n",
       "      <td>0</td>\n",
       "      <td>0</td>\n",
       "      <td>0</td>\n",
       "      <td>0</td>\n",
       "      <td>...</td>\n",
       "      <td>2090</td>\n",
       "      <td>417.0</td>\n",
       "      <td>326.0</td>\n",
       "      <td>258.0</td>\n",
       "      <td>300.0</td>\n",
       "      <td>277.0</td>\n",
       "      <td>0.0</td>\n",
       "      <td>10308.0</td>\n",
       "      <td>89</td>\n",
       "      <td>14.0</td>\n",
       "    </tr>\n",
       "    <tr>\n",
       "      <th>433</th>\n",
       "      <td>0</td>\n",
       "      <td>0</td>\n",
       "      <td>0</td>\n",
       "      <td>0</td>\n",
       "      <td>0</td>\n",
       "      <td>0</td>\n",
       "      <td>0</td>\n",
       "      <td>0</td>\n",
       "      <td>0</td>\n",
       "      <td>0</td>\n",
       "      <td>...</td>\n",
       "      <td>436</td>\n",
       "      <td>314.0</td>\n",
       "      <td>280.0</td>\n",
       "      <td>236.0</td>\n",
       "      <td>224.0</td>\n",
       "      <td>206.0</td>\n",
       "      <td>0.0</td>\n",
       "      <td>10245.0</td>\n",
       "      <td>90</td>\n",
       "      <td>13.0</td>\n",
       "    </tr>\n",
       "    <tr>\n",
       "      <th>2491</th>\n",
       "      <td>0</td>\n",
       "      <td>0</td>\n",
       "      <td>0</td>\n",
       "      <td>0</td>\n",
       "      <td>0</td>\n",
       "      <td>0</td>\n",
       "      <td>0</td>\n",
       "      <td>0</td>\n",
       "      <td>0</td>\n",
       "      <td>0</td>\n",
       "      <td>...</td>\n",
       "      <td>2522</td>\n",
       "      <td>236.0</td>\n",
       "      <td>317.0</td>\n",
       "      <td>285.0</td>\n",
       "      <td>250.0</td>\n",
       "      <td>203.0</td>\n",
       "      <td>0.0</td>\n",
       "      <td>12434.0</td>\n",
       "      <td>75</td>\n",
       "      <td>5.0</td>\n",
       "    </tr>\n",
       "    <tr>\n",
       "      <th>3343</th>\n",
       "      <td>0</td>\n",
       "      <td>0</td>\n",
       "      <td>0</td>\n",
       "      <td>0</td>\n",
       "      <td>0</td>\n",
       "      <td>0</td>\n",
       "      <td>0</td>\n",
       "      <td>0</td>\n",
       "      <td>0</td>\n",
       "      <td>0</td>\n",
       "      <td>...</td>\n",
       "      <td>3375</td>\n",
       "      <td>1093.0</td>\n",
       "      <td>478.0</td>\n",
       "      <td>434.0</td>\n",
       "      <td>413.0</td>\n",
       "      <td>366.0</td>\n",
       "      <td>7.0</td>\n",
       "      <td>19287.0</td>\n",
       "      <td>15</td>\n",
       "      <td>9.0</td>\n",
       "    </tr>\n",
       "    <tr>\n",
       "      <th>1504</th>\n",
       "      <td>0</td>\n",
       "      <td>0</td>\n",
       "      <td>0</td>\n",
       "      <td>0</td>\n",
       "      <td>0</td>\n",
       "      <td>0</td>\n",
       "      <td>0</td>\n",
       "      <td>0</td>\n",
       "      <td>0</td>\n",
       "      <td>0</td>\n",
       "      <td>...</td>\n",
       "      <td>1520</td>\n",
       "      <td>770.0</td>\n",
       "      <td>318.0</td>\n",
       "      <td>272.0</td>\n",
       "      <td>282.0</td>\n",
       "      <td>228.0</td>\n",
       "      <td>3.0</td>\n",
       "      <td>12603.0</td>\n",
       "      <td>47</td>\n",
       "      <td>20.0</td>\n",
       "    </tr>\n",
       "  </tbody>\n",
       "</table>\n",
       "<p>2116 rows × 82 columns</p>\n",
       "</div>"
      ],
      "text/plain": [
       "      state_AE  state_AK  state_AL  state_AP  state_AR  state_AZ  \\\n",
       "3331         0         0         0         0         0         0   \n",
       "1403         0         0         1         0         0         0   \n",
       "1978         0         0         0         0         0         0   \n",
       "3553         0         0         0         0         0         0   \n",
       "3351         0         0         0         0         0         0   \n",
       "...        ...       ...       ...       ...       ...       ...   \n",
       "2059         0         0         0         0         0         0   \n",
       "433          0         0         0         0         0         0   \n",
       "2491         0         0         0         0         0         0   \n",
       "3343         0         0         0         0         0         0   \n",
       "1504         0         0         0         0         0         0   \n",
       "\n",
       "      state_Arizona  state_CA  state_CO  state_CT  ...  index  \\\n",
       "3331              0         0         0         0  ...   3363   \n",
       "1403              0         0         0         0  ...   1419   \n",
       "1978              0         0         0         0  ...   1994   \n",
       "3553              0         0         0         0  ...   3585   \n",
       "3351              0         0         0         0  ...   3383   \n",
       "...             ...       ...       ...       ...  ...    ...   \n",
       "2059              0         0         0         0  ...   2090   \n",
       "433               0         0         0         0  ...    436   \n",
       "2491              0         0         0         0  ...   2522   \n",
       "3343              0         0         0         0  ...   3375   \n",
       "1504              0         0         0         0  ...   1520   \n",
       "\n",
       "      median_home_val  avg_fam_income  avg_household_income  med_fam_income  \\\n",
       "3331            439.0           212.0                 168.0           189.0   \n",
       "1403            710.0           457.0                 433.0           429.0   \n",
       "1978            748.0           423.0                 369.0           372.0   \n",
       "3553            633.0           391.0                 351.0           326.0   \n",
       "3351            804.0           441.0                 400.0           408.0   \n",
       "...               ...             ...                   ...             ...   \n",
       "2059            417.0           326.0                 258.0           300.0   \n",
       "433             314.0           280.0                 236.0           224.0   \n",
       "2491            236.0           317.0                 285.0           250.0   \n",
       "3343           1093.0           478.0                 434.0           413.0   \n",
       "1504            770.0           318.0                 272.0           282.0   \n",
       "\n",
       "      median_household_income  hvp1  per_capita_income  pobc2  avggift  \n",
       "3331                    134.0   0.0             7525.0     77      5.0  \n",
       "1403                    402.0   0.0            14119.0     50     10.0  \n",
       "1978                    352.0   1.0            13998.0     62     10.0  \n",
       "3553                    309.0   1.0            13407.0     63     12.0  \n",
       "3351                    366.0   7.0            15041.0     54     15.0  \n",
       "...                       ...   ...                ...    ...      ...  \n",
       "2059                    277.0   0.0            10308.0     89     14.0  \n",
       "433                     206.0   0.0            10245.0     90     13.0  \n",
       "2491                    203.0   0.0            12434.0     75      5.0  \n",
       "3343                    366.0   7.0            19287.0     15      9.0  \n",
       "1504                    228.0   3.0            12603.0     47     20.0  \n",
       "\n",
       "[2116 rows x 82 columns]"
      ]
     },
     "execution_count": 25,
     "metadata": {},
     "output_type": "execute_result"
    }
   ],
   "source": [
    "X_train"
   ]
  },
  {
   "cell_type": "code",
   "execution_count": 26,
   "metadata": {},
   "outputs": [
    {
     "name": "stdout",
     "output_type": "stream",
     "text": [
      "[ColumnTransformer] ............ (1 of 1) Processing pt, total=   0.2s\n"
     ]
    }
   ],
   "source": [
    "ct = ColumnTransformer([(\"pt\", pt, list(numericalX.columns))],\n",
    "                        remainder='drop', verbose=True).fit(X_train)\n",
    "X_train_ct = pd.DataFrame(ct.transform(X_train))\n",
    "X_test_ct = pd.DataFrame(ct.transform(X_test))"
   ]
  },
  {
   "cell_type": "code",
   "execution_count": 27,
   "metadata": {},
   "outputs": [
    {
     "data": {
      "text/html": [
       "<div>\n",
       "<style scoped>\n",
       "    .dataframe tbody tr th:only-of-type {\n",
       "        vertical-align: middle;\n",
       "    }\n",
       "\n",
       "    .dataframe tbody tr th {\n",
       "        vertical-align: top;\n",
       "    }\n",
       "\n",
       "    .dataframe thead th {\n",
       "        text-align: right;\n",
       "    }\n",
       "</style>\n",
       "<table border=\"1\" class=\"dataframe\">\n",
       "  <thead>\n",
       "    <tr style=\"text-align: right;\">\n",
       "      <th></th>\n",
       "      <th>0</th>\n",
       "      <th>1</th>\n",
       "      <th>2</th>\n",
       "      <th>3</th>\n",
       "      <th>4</th>\n",
       "      <th>5</th>\n",
       "      <th>6</th>\n",
       "      <th>7</th>\n",
       "      <th>8</th>\n",
       "      <th>9</th>\n",
       "    </tr>\n",
       "  </thead>\n",
       "  <tbody>\n",
       "    <tr>\n",
       "      <th>0</th>\n",
       "      <td>1.408987</td>\n",
       "      <td>1.510782</td>\n",
       "      <td>1.231257</td>\n",
       "      <td>1.484761</td>\n",
       "      <td>1.329766</td>\n",
       "      <td>1.694943</td>\n",
       "      <td>1.552959</td>\n",
       "      <td>1.623183</td>\n",
       "      <td>0.062413</td>\n",
       "      <td>-0.241322</td>\n",
       "    </tr>\n",
       "    <tr>\n",
       "      <th>1</th>\n",
       "      <td>-0.459309</td>\n",
       "      <td>1.077013</td>\n",
       "      <td>2.087438</td>\n",
       "      <td>1.939550</td>\n",
       "      <td>2.054337</td>\n",
       "      <td>1.884777</td>\n",
       "      <td>0.179048</td>\n",
       "      <td>1.849039</td>\n",
       "      <td>0.572884</td>\n",
       "      <td>0.004278</td>\n",
       "    </tr>\n",
       "    <tr>\n",
       "      <th>2</th>\n",
       "      <td>0.596937</td>\n",
       "      <td>0.791566</td>\n",
       "      <td>1.752781</td>\n",
       "      <td>1.993322</td>\n",
       "      <td>1.665296</td>\n",
       "      <td>1.897179</td>\n",
       "      <td>1.359960</td>\n",
       "      <td>0.992016</td>\n",
       "      <td>-0.134367</td>\n",
       "      <td>1.156624</td>\n",
       "    </tr>\n",
       "    <tr>\n",
       "      <th>3</th>\n",
       "      <td>-0.199207</td>\n",
       "      <td>-0.406431</td>\n",
       "      <td>0.075011</td>\n",
       "      <td>0.395396</td>\n",
       "      <td>0.241060</td>\n",
       "      <td>0.580066</td>\n",
       "      <td>-0.939456</td>\n",
       "      <td>-0.233476</td>\n",
       "      <td>0.112290</td>\n",
       "      <td>0.004278</td>\n",
       "    </tr>\n",
       "    <tr>\n",
       "      <th>4</th>\n",
       "      <td>1.383692</td>\n",
       "      <td>-0.109015</td>\n",
       "      <td>0.281149</td>\n",
       "      <td>0.361014</td>\n",
       "      <td>0.370295</td>\n",
       "      <td>0.555394</td>\n",
       "      <td>-0.939456</td>\n",
       "      <td>-0.045651</td>\n",
       "      <td>0.944912</td>\n",
       "      <td>0.635861</td>\n",
       "    </tr>\n",
       "    <tr>\n",
       "      <th>...</th>\n",
       "      <td>...</td>\n",
       "      <td>...</td>\n",
       "      <td>...</td>\n",
       "      <td>...</td>\n",
       "      <td>...</td>\n",
       "      <td>...</td>\n",
       "      <td>...</td>\n",
       "      <td>...</td>\n",
       "      <td>...</td>\n",
       "      <td>...</td>\n",
       "    </tr>\n",
       "    <tr>\n",
       "      <th>902</th>\n",
       "      <td>-0.284782</td>\n",
       "      <td>-0.423705</td>\n",
       "      <td>-0.094517</td>\n",
       "      <td>-1.291955</td>\n",
       "      <td>-0.157572</td>\n",
       "      <td>-1.579363</td>\n",
       "      <td>-0.939456</td>\n",
       "      <td>-0.707092</td>\n",
       "      <td>-0.696702</td>\n",
       "      <td>0.440100</td>\n",
       "    </tr>\n",
       "    <tr>\n",
       "      <th>903</th>\n",
       "      <td>0.033179</td>\n",
       "      <td>0.390734</td>\n",
       "      <td>0.364592</td>\n",
       "      <td>0.554954</td>\n",
       "      <td>0.395772</td>\n",
       "      <td>0.669364</td>\n",
       "      <td>0.873646</td>\n",
       "      <td>0.167526</td>\n",
       "      <td>0.625315</td>\n",
       "      <td>0.230377</td>\n",
       "    </tr>\n",
       "    <tr>\n",
       "      <th>904</th>\n",
       "      <td>-1.012795</td>\n",
       "      <td>-0.825879</td>\n",
       "      <td>-1.137092</td>\n",
       "      <td>-1.075104</td>\n",
       "      <td>-0.910096</td>\n",
       "      <td>-0.740023</td>\n",
       "      <td>-0.939456</td>\n",
       "      <td>-1.327370</td>\n",
       "      <td>0.365627</td>\n",
       "      <td>1.992909</td>\n",
       "    </tr>\n",
       "    <tr>\n",
       "      <th>905</th>\n",
       "      <td>-2.029144</td>\n",
       "      <td>0.027575</td>\n",
       "      <td>-0.242015</td>\n",
       "      <td>-0.641975</td>\n",
       "      <td>-0.590597</td>\n",
       "      <td>-0.706124</td>\n",
       "      <td>-0.939456</td>\n",
       "      <td>0.839313</td>\n",
       "      <td>-0.960539</td>\n",
       "      <td>1.867825</td>\n",
       "    </tr>\n",
       "    <tr>\n",
       "      <th>906</th>\n",
       "      <td>0.640539</td>\n",
       "      <td>1.841218</td>\n",
       "      <td>1.259239</td>\n",
       "      <td>1.471446</td>\n",
       "      <td>1.351290</td>\n",
       "      <td>1.564195</td>\n",
       "      <td>1.635277</td>\n",
       "      <td>0.911856</td>\n",
       "      <td>-0.085588</td>\n",
       "      <td>-0.241322</td>\n",
       "    </tr>\n",
       "  </tbody>\n",
       "</table>\n",
       "<p>907 rows × 10 columns</p>\n",
       "</div>"
      ],
      "text/plain": [
       "            0         1         2         3         4         5         6  \\\n",
       "0    1.408987  1.510782  1.231257  1.484761  1.329766  1.694943  1.552959   \n",
       "1   -0.459309  1.077013  2.087438  1.939550  2.054337  1.884777  0.179048   \n",
       "2    0.596937  0.791566  1.752781  1.993322  1.665296  1.897179  1.359960   \n",
       "3   -0.199207 -0.406431  0.075011  0.395396  0.241060  0.580066 -0.939456   \n",
       "4    1.383692 -0.109015  0.281149  0.361014  0.370295  0.555394 -0.939456   \n",
       "..        ...       ...       ...       ...       ...       ...       ...   \n",
       "902 -0.284782 -0.423705 -0.094517 -1.291955 -0.157572 -1.579363 -0.939456   \n",
       "903  0.033179  0.390734  0.364592  0.554954  0.395772  0.669364  0.873646   \n",
       "904 -1.012795 -0.825879 -1.137092 -1.075104 -0.910096 -0.740023 -0.939456   \n",
       "905 -2.029144  0.027575 -0.242015 -0.641975 -0.590597 -0.706124 -0.939456   \n",
       "906  0.640539  1.841218  1.259239  1.471446  1.351290  1.564195  1.635277   \n",
       "\n",
       "            7         8         9  \n",
       "0    1.623183  0.062413 -0.241322  \n",
       "1    1.849039  0.572884  0.004278  \n",
       "2    0.992016 -0.134367  1.156624  \n",
       "3   -0.233476  0.112290  0.004278  \n",
       "4   -0.045651  0.944912  0.635861  \n",
       "..        ...       ...       ...  \n",
       "902 -0.707092 -0.696702  0.440100  \n",
       "903  0.167526  0.625315  0.230377  \n",
       "904 -1.327370  0.365627  1.992909  \n",
       "905  0.839313 -0.960539  1.867825  \n",
       "906  0.911856 -0.085588 -0.241322  \n",
       "\n",
       "[907 rows x 10 columns]"
      ]
     },
     "execution_count": 27,
     "metadata": {},
     "output_type": "execute_result"
    }
   ],
   "source": [
    "X_train_ct = pd.DataFrame(X_train_ct)\n",
    "X_test_ct"
   ]
  },
  {
   "cell_type": "markdown",
   "metadata": {},
   "source": [
    "## Predictive Modeling "
   ]
  },
  {
   "cell_type": "markdown",
   "metadata": {},
   "source": [
    "### OLS using StatsModels"
   ]
  },
  {
   "cell_type": "code",
   "execution_count": 28,
   "metadata": {},
   "outputs": [
    {
     "data": {
      "text/html": [
       "<div>\n",
       "<style scoped>\n",
       "    .dataframe tbody tr th:only-of-type {\n",
       "        vertical-align: middle;\n",
       "    }\n",
       "\n",
       "    .dataframe tbody tr th {\n",
       "        vertical-align: top;\n",
       "    }\n",
       "\n",
       "    .dataframe thead th {\n",
       "        text-align: right;\n",
       "    }\n",
       "</style>\n",
       "<table border=\"1\" class=\"dataframe\">\n",
       "  <thead>\n",
       "    <tr style=\"text-align: right;\">\n",
       "      <th></th>\n",
       "      <th>target_d</th>\n",
       "    </tr>\n",
       "  </thead>\n",
       "  <tbody>\n",
       "    <tr>\n",
       "      <th>3331</th>\n",
       "      <td>10.0</td>\n",
       "    </tr>\n",
       "    <tr>\n",
       "      <th>1403</th>\n",
       "      <td>11.0</td>\n",
       "    </tr>\n",
       "    <tr>\n",
       "      <th>1978</th>\n",
       "      <td>30.0</td>\n",
       "    </tr>\n",
       "    <tr>\n",
       "      <th>3553</th>\n",
       "      <td>16.0</td>\n",
       "    </tr>\n",
       "    <tr>\n",
       "      <th>3351</th>\n",
       "      <td>21.0</td>\n",
       "    </tr>\n",
       "    <tr>\n",
       "      <th>...</th>\n",
       "      <td>...</td>\n",
       "    </tr>\n",
       "    <tr>\n",
       "      <th>2059</th>\n",
       "      <td>15.0</td>\n",
       "    </tr>\n",
       "    <tr>\n",
       "      <th>433</th>\n",
       "      <td>20.0</td>\n",
       "    </tr>\n",
       "    <tr>\n",
       "      <th>2491</th>\n",
       "      <td>7.0</td>\n",
       "    </tr>\n",
       "    <tr>\n",
       "      <th>3343</th>\n",
       "      <td>10.0</td>\n",
       "    </tr>\n",
       "    <tr>\n",
       "      <th>1504</th>\n",
       "      <td>30.0</td>\n",
       "    </tr>\n",
       "  </tbody>\n",
       "</table>\n",
       "<p>2116 rows × 1 columns</p>\n",
       "</div>"
      ],
      "text/plain": [
       "      target_d\n",
       "3331      10.0\n",
       "1403      11.0\n",
       "1978      30.0\n",
       "3553      16.0\n",
       "3351      21.0\n",
       "...        ...\n",
       "2059      15.0\n",
       "433       20.0\n",
       "2491       7.0\n",
       "3343      10.0\n",
       "1504      30.0\n",
       "\n",
       "[2116 rows x 1 columns]"
      ]
     },
     "execution_count": 28,
     "metadata": {},
     "output_type": "execute_result"
    }
   ],
   "source": [
    "y_train"
   ]
  },
  {
   "cell_type": "code",
   "execution_count": 30,
   "metadata": {},
   "outputs": [
    {
     "data": {
      "text/html": [
       "<table class=\"simpletable\">\n",
       "<caption>OLS Regression Results</caption>\n",
       "<tr>\n",
       "  <th>Dep. Variable:</th>        <td>target_d</td>     <th>  R-squared:         </th> <td>   0.485</td> \n",
       "</tr>\n",
       "<tr>\n",
       "  <th>Model:</th>                   <td>OLS</td>       <th>  Adj. R-squared:    </th> <td>   0.483</td> \n",
       "</tr>\n",
       "<tr>\n",
       "  <th>Method:</th>             <td>Least Squares</td>  <th>  F-statistic:       </th> <td>   198.5</td> \n",
       "</tr>\n",
       "<tr>\n",
       "  <th>Date:</th>             <td>Mon, 10 Jul 2023</td> <th>  Prob (F-statistic):</th> <td>6.49e-295</td>\n",
       "</tr>\n",
       "<tr>\n",
       "  <th>Time:</th>                 <td>15:39:47</td>     <th>  Log-Likelihood:    </th> <td> -6280.7</td> \n",
       "</tr>\n",
       "<tr>\n",
       "  <th>No. Observations:</th>      <td>  2116</td>      <th>  AIC:               </th> <td>1.258e+04</td>\n",
       "</tr>\n",
       "<tr>\n",
       "  <th>Df Residuals:</th>          <td>  2105</td>      <th>  BIC:               </th> <td>1.265e+04</td>\n",
       "</tr>\n",
       "<tr>\n",
       "  <th>Df Model:</th>              <td>    10</td>      <th>                     </th>     <td> </td>    \n",
       "</tr>\n",
       "<tr>\n",
       "  <th>Covariance Type:</th>      <td>nonrobust</td>    <th>                     </th>     <td> </td>    \n",
       "</tr>\n",
       "</table>\n",
       "<table class=\"simpletable\">\n",
       "<tr>\n",
       "    <td></td>       <th>coef</th>     <th>std err</th>      <th>t</th>      <th>P>|t|</th>  <th>[0.025</th>    <th>0.975]</th>  \n",
       "</tr>\n",
       "<tr>\n",
       "  <th>const</th> <td>   13.0340</td> <td>    0.103</td> <td>  127.020</td> <td> 0.000</td> <td>   12.833</td> <td>   13.235</td>\n",
       "</tr>\n",
       "<tr>\n",
       "  <th>x1</th>    <td>   -0.1788</td> <td>    0.103</td> <td>   -1.737</td> <td> 0.082</td> <td>   -0.381</td> <td>    0.023</td>\n",
       "</tr>\n",
       "<tr>\n",
       "  <th>x2</th>    <td>   -0.1736</td> <td>    0.192</td> <td>   -0.903</td> <td> 0.367</td> <td>   -0.551</td> <td>    0.203</td>\n",
       "</tr>\n",
       "<tr>\n",
       "  <th>x3</th>    <td>   -0.1393</td> <td>    0.655</td> <td>   -0.213</td> <td> 0.832</td> <td>   -1.424</td> <td>    1.146</td>\n",
       "</tr>\n",
       "<tr>\n",
       "  <th>x4</th>    <td>    0.3514</td> <td>    0.730</td> <td>    0.481</td> <td> 0.630</td> <td>   -1.080</td> <td>    1.783</td>\n",
       "</tr>\n",
       "<tr>\n",
       "  <th>x5</th>    <td>    0.1736</td> <td>    0.506</td> <td>    0.343</td> <td> 0.732</td> <td>   -0.819</td> <td>    1.166</td>\n",
       "</tr>\n",
       "<tr>\n",
       "  <th>x6</th>    <td>   -0.1339</td> <td>    0.561</td> <td>   -0.239</td> <td> 0.811</td> <td>   -1.235</td> <td>    0.967</td>\n",
       "</tr>\n",
       "<tr>\n",
       "  <th>x7</th>    <td>   -0.1988</td> <td>    0.150</td> <td>   -1.323</td> <td> 0.186</td> <td>   -0.493</td> <td>    0.096</td>\n",
       "</tr>\n",
       "<tr>\n",
       "  <th>x8</th>    <td>    0.1350</td> <td>    0.232</td> <td>    0.581</td> <td> 0.561</td> <td>   -0.320</td> <td>    0.590</td>\n",
       "</tr>\n",
       "<tr>\n",
       "  <th>x9</th>    <td>    0.0365</td> <td>    0.121</td> <td>    0.301</td> <td> 0.764</td> <td>   -0.201</td> <td>    0.275</td>\n",
       "</tr>\n",
       "<tr>\n",
       "  <th>x10</th>   <td>    4.5552</td> <td>    0.104</td> <td>   43.967</td> <td> 0.000</td> <td>    4.352</td> <td>    4.758</td>\n",
       "</tr>\n",
       "</table>\n",
       "<table class=\"simpletable\">\n",
       "<tr>\n",
       "  <th>Omnibus:</th>       <td>102.523</td> <th>  Durbin-Watson:     </th> <td>   2.025</td>\n",
       "</tr>\n",
       "<tr>\n",
       "  <th>Prob(Omnibus):</th> <td> 0.000</td>  <th>  Jarque-Bera (JB):  </th> <td> 199.982</td>\n",
       "</tr>\n",
       "<tr>\n",
       "  <th>Skew:</th>          <td> 0.344</td>  <th>  Prob(JB):          </th> <td>3.75e-44</td>\n",
       "</tr>\n",
       "<tr>\n",
       "  <th>Kurtosis:</th>      <td> 4.340</td>  <th>  Cond. No.          </th> <td>    24.9</td>\n",
       "</tr>\n",
       "</table><br/><br/>Notes:<br/>[1] Standard Errors assume that the covariance matrix of the errors is correctly specified."
      ],
      "text/plain": [
       "<class 'statsmodels.iolib.summary.Summary'>\n",
       "\"\"\"\n",
       "                            OLS Regression Results                            \n",
       "==============================================================================\n",
       "Dep. Variable:               target_d   R-squared:                       0.485\n",
       "Model:                            OLS   Adj. R-squared:                  0.483\n",
       "Method:                 Least Squares   F-statistic:                     198.5\n",
       "Date:                Mon, 10 Jul 2023   Prob (F-statistic):          6.49e-295\n",
       "Time:                        15:39:47   Log-Likelihood:                -6280.7\n",
       "No. Observations:                2116   AIC:                         1.258e+04\n",
       "Df Residuals:                    2105   BIC:                         1.265e+04\n",
       "Df Model:                          10                                         \n",
       "Covariance Type:            nonrobust                                         \n",
       "==============================================================================\n",
       "                 coef    std err          t      P>|t|      [0.025      0.975]\n",
       "------------------------------------------------------------------------------\n",
       "const         13.0340      0.103    127.020      0.000      12.833      13.235\n",
       "x1            -0.1788      0.103     -1.737      0.082      -0.381       0.023\n",
       "x2            -0.1736      0.192     -0.903      0.367      -0.551       0.203\n",
       "x3            -0.1393      0.655     -0.213      0.832      -1.424       1.146\n",
       "x4             0.3514      0.730      0.481      0.630      -1.080       1.783\n",
       "x5             0.1736      0.506      0.343      0.732      -0.819       1.166\n",
       "x6            -0.1339      0.561     -0.239      0.811      -1.235       0.967\n",
       "x7            -0.1988      0.150     -1.323      0.186      -0.493       0.096\n",
       "x8             0.1350      0.232      0.581      0.561      -0.320       0.590\n",
       "x9             0.0365      0.121      0.301      0.764      -0.201       0.275\n",
       "x10            4.5552      0.104     43.967      0.000       4.352       4.758\n",
       "==============================================================================\n",
       "Omnibus:                      102.523   Durbin-Watson:                   2.025\n",
       "Prob(Omnibus):                  0.000   Jarque-Bera (JB):              199.982\n",
       "Skew:                           0.344   Prob(JB):                     3.75e-44\n",
       "Kurtosis:                       4.340   Cond. No.                         24.9\n",
       "==============================================================================\n",
       "\n",
       "Notes:\n",
       "[1] Standard Errors assume that the covariance matrix of the errors is correctly specified.\n",
       "\"\"\""
      ]
     },
     "execution_count": 30,
     "metadata": {},
     "output_type": "execute_result"
    }
   ],
   "source": [
    "X_train_const_ct = sm.add_constant(X_train_ct.to_numpy()) # adding a constant\n",
    "\n",
    "model = sm.OLS(y_train, X_train_const_ct).fit()\n",
    "predictions_train = model.predict(X_train_const_ct)\n",
    "\n",
    "X_test_const_ct = sm.add_constant(X_test_ct) # adding a constant\n",
    "predictions_test = model.predict(X_test_const_ct)\n",
    "print_model = model.summary()\n",
    "print_model"
   ]
  },
  {
   "cell_type": "raw",
   "metadata": {},
   "source": [
    "Two options for OneHot Encoding\n",
    "# get dummies pandas\n",
    "categoricals_features=pd.get_dummies(categoricals_features, drop_first=True)\n",
    "\n",
    "##pd.DataFrame(OneHotEncoder(drop='first').fit_transform(categoricals_features).toarray(),\n",
    "## ##columns=OneHotEncoder(drop='first').fit(categoricals_features).get_feature_names(input_features=categoricals_feature##s.columns)).head()"
   ]
  },
  {
   "cell_type": "markdown",
   "metadata": {},
   "source": [
    "### OLS using Scikit Learn"
   ]
  },
  {
   "cell_type": "markdown",
   "metadata": {},
   "source": [
    "Model fitting"
   ]
  },
  {
   "cell_type": "code",
   "execution_count": null,
   "metadata": {
    "ExecuteTime": {
     "end_time": "2022-11-09T11:42:10.798071Z",
     "start_time": "2022-11-09T11:42:10.783876Z"
    }
   },
   "outputs": [],
   "source": [
    "model=LinearRegression()    # model\n",
    "model.fit(X_train_ct, y_train)   # model train"
   ]
  },
  {
   "cell_type": "markdown",
   "metadata": {},
   "source": [
    "<b> model parameters"
   ]
  },
  {
   "cell_type": "code",
   "execution_count": null,
   "metadata": {
    "ExecuteTime": {
     "end_time": "2022-11-09T11:42:13.354450Z",
     "start_time": "2022-11-09T11:42:13.345778Z"
    }
   },
   "outputs": [],
   "source": [
    "model.coef_"
   ]
  },
  {
   "cell_type": "code",
   "execution_count": null,
   "metadata": {
    "ExecuteTime": {
     "end_time": "2022-11-09T11:42:13.692702Z",
     "start_time": "2022-11-09T11:42:13.685216Z"
    }
   },
   "outputs": [],
   "source": [
    "model.intercept_"
   ]
  },
  {
   "cell_type": "markdown",
   "metadata": {},
   "source": [
    "Making prediction"
   ]
  },
  {
   "cell_type": "code",
   "execution_count": null,
   "metadata": {
    "ExecuteTime": {
     "end_time": "2022-11-09T11:42:20.166074Z",
     "start_time": "2022-11-09T11:42:20.162016Z"
    }
   },
   "outputs": [],
   "source": [
    "y_pred = pd.DataFrame(model.predict(X_test_ct),columns = ['target_d'] )      # model prediction\n",
    "y_pred_train =  pd.DataFrame(model.predict(X_train_ct),columns = ['target_d'])"
   ]
  },
  {
   "cell_type": "markdown",
   "metadata": {},
   "source": [
    "## Evaluating Model Performance"
   ]
  },
  {
   "cell_type": "markdown",
   "metadata": {},
   "source": []
  },
  {
   "cell_type": "code",
   "execution_count": null,
   "metadata": {},
   "outputs": [],
   "source": [
    "y_pred"
   ]
  },
  {
   "cell_type": "code",
   "execution_count": null,
   "metadata": {
    "ExecuteTime": {
     "end_time": "2022-11-09T11:42:24.999916Z",
     "start_time": "2022-11-09T11:42:24.995223Z"
    }
   },
   "outputs": [],
   "source": [
    "result=pd.DataFrame({\"y_test\": list(y_test['target_d']),\"y_pred\": list(y_pred['target_d'])})"
   ]
  },
  {
   "cell_type": "code",
   "execution_count": null,
   "metadata": {},
   "outputs": [],
   "source": [
    "result"
   ]
  },
  {
   "cell_type": "code",
   "execution_count": null,
   "metadata": {
    "ExecuteTime": {
     "end_time": "2022-11-09T11:42:35.767453Z",
     "start_time": "2022-11-09T11:42:35.610586Z"
    }
   },
   "outputs": [],
   "source": [
    "# Make a scatterplot of y_pred vs y\n",
    "# Question: What kind of plot will you get if all the all the predictions are perfect?\n",
    "# Answer: A straight line!\n",
    "\n",
    "fig, ax = plt.subplots(1,3,figsize=(14,4))\n",
    "ax[0].plot(y_pred, y_test, 'o')\n",
    "ax[0].set_xlabel(\"y_test\")\n",
    "ax[0].set_ylabel(\"y_pred\")\n",
    "ax[0].set_title(\"Test Set -Predicted vs real\")\n",
    "\n",
    "# Get a histogram of the residuals ie: y - y_pred.  Homoscdasticity\n",
    "# It resembles a normal distribution?\n",
    "ax[1].hist(y_test - y_pred)\n",
    "ax[1].set_xlabel(\"Test y-y_pred\")\n",
    "ax[1].set_title(\"Test Set Residual histogram\")\n",
    "\n",
    "ax[2].plot(y_pred,y_pred.to_numpy()-y_test.to_numpy(),\"o\")\n",
    "ax[2].set_xlabel(\"predited\")\n",
    "ax[2].set_ylabel(\"residuals\")\n",
    "ax[2].set_title(\"Residuals by Predicted\")\n",
    "ax[2].plot(y_pred,np.zeros(len(y_pred)),linestyle='dashed')"
   ]
  },
  {
   "cell_type": "markdown",
   "metadata": {},
   "source": [
    "<b>more fancy using seaborn"
   ]
  },
  {
   "cell_type": "code",
   "execution_count": null,
   "metadata": {
    "ExecuteTime": {
     "end_time": "2022-11-09T11:46:00.746250Z",
     "start_time": "2022-11-09T11:46:00.592500Z"
    }
   },
   "outputs": [],
   "source": [
    "yp_ = y_pred.to_numpy()\n",
    "yt_ = y_test.to_numpy()\n",
    "sns.regplot(x=yp_,y=yt_,scatter_kws={\"color\": \"red\"}, line_kws={\"color\": \"black\"})"
   ]
  },
  {
   "cell_type": "markdown",
   "metadata": {},
   "source": [
    "### Error metrics"
   ]
  },
  {
   "cell_type": "code",
   "execution_count": null,
   "metadata": {
    "ExecuteTime": {
     "end_time": "2022-11-09T11:47:20.528419Z",
     "start_time": "2022-11-09T11:47:20.520728Z"
    }
   },
   "outputs": [],
   "source": [
    "print(mse(y_test,y_pred))\n",
    "print(mae(y_test,y_pred))\n",
    "##prediction on the train set\n",
    "print(mse(y_train,y_pred_train))"
   ]
  },
  {
   "cell_type": "code",
   "execution_count": null,
   "metadata": {
    "ExecuteTime": {
     "end_time": "2022-11-09T11:48:18.639564Z",
     "start_time": "2022-11-09T11:48:18.629757Z"
    }
   },
   "outputs": [],
   "source": [
    "R2=r2_score(y_test,y_pred)\n",
    "R2"
   ]
  },
  {
   "cell_type": "code",
   "execution_count": null,
   "metadata": {
    "ExecuteTime": {
     "end_time": "2022-11-09T11:48:30.841778Z",
     "start_time": "2022-11-09T11:48:30.836396Z"
    }
   },
   "outputs": [],
   "source": [
    "R2_test=model.score(X_test_ct,y_test)\n",
    "R2_train=model.score(X_train_ct,y_train)\n",
    "Adj_R2= 1 - (1-R2)*(len(y_test)-1)/(len(y_test)-X_test.shape[1]-1)\n",
    "Adj_R2"
   ]
  },
  {
   "cell_type": "markdown",
   "metadata": {},
   "source": [
    "## Feature Importances"
   ]
  },
  {
   "cell_type": "code",
   "execution_count": null,
   "metadata": {
    "ExecuteTime": {
     "end_time": "2022-11-09T11:49:34.566146Z",
     "start_time": "2022-11-09T11:49:34.556740Z"
    }
   },
   "outputs": [],
   "source": [
    "feature_importances = pd.DataFrame(data={\n",
    "    'Variable': X_train_ct.columns,\n",
    "    'Importance': abs(model.coef_.reshape(len(X_train_ct.columns),))\n",
    "})\n",
    "feature_importances = feature_importances.sort_values(by='Importance', ascending=False)\n",
    "feature_importances"
   ]
  },
  {
   "cell_type": "code",
   "execution_count": null,
   "metadata": {
    "ExecuteTime": {
     "end_time": "2022-11-09T11:53:35.952556Z",
     "start_time": "2022-11-09T11:53:35.859229Z"
    }
   },
   "outputs": [],
   "source": [
    "plt.bar(x=features_importances['Variable'].iloc[:10], height=features_importances['Importance'].iloc[:10], color='#087E8B')\n",
    "plt.title('Feature importance rankings', size=12)\n",
    "plt.xticks(rotation='horizontal')\n",
    "plt.show()"
   ]
  }
 ],
 "metadata": {
  "colab": {
   "name": "Intro to Pandas - \"Healthcare for All\" Code Along - Structure.ipynb",
   "provenance": [],
   "toc_visible": true
  },
  "kernelspec": {
   "display_name": "Python 3 (ipykernel)",
   "language": "python",
   "name": "python3"
  },
  "language_info": {
   "codemirror_mode": {
    "name": "ipython",
    "version": 3
   },
   "file_extension": ".py",
   "mimetype": "text/x-python",
   "name": "python",
   "nbconvert_exporter": "python",
   "pygments_lexer": "ipython3",
   "version": "3.9.16"
  },
  "toc": {
   "base_numbering": 1,
   "nav_menu": {},
   "number_sections": false,
   "sideBar": true,
   "skip_h1_title": false,
   "title_cell": "Table of Contents",
   "title_sidebar": "Contents",
   "toc_cell": false,
   "toc_position": {},
   "toc_section_display": true,
   "toc_window_display": false
  },
  "varInspector": {
   "cols": {
    "lenName": 16,
    "lenType": 16,
    "lenVar": 40
   },
   "kernels_config": {
    "python": {
     "delete_cmd_postfix": "",
     "delete_cmd_prefix": "del ",
     "library": "var_list.py",
     "varRefreshCmd": "print(var_dic_list())"
    },
    "r": {
     "delete_cmd_postfix": ") ",
     "delete_cmd_prefix": "rm(",
     "library": "var_list.r",
     "varRefreshCmd": "cat(var_dic_list()) "
    }
   },
   "types_to_exclude": [
    "module",
    "function",
    "builtin_function_or_method",
    "instance",
    "_Feature"
   ],
   "window_display": false
  }
 },
 "nbformat": 4,
 "nbformat_minor": 1
}
